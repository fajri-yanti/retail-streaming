{
 "cells": [
  {
   "cell_type": "code",
   "execution_count": 1,
   "id": "d4eec4df-c70a-4892-b130-235c2d7a911d",
   "metadata": {
    "tags": []
   },
   "outputs": [],
   "source": [
    "import pyspark\n",
    "import os\n",
    "from dotenv import load_dotenv\n",
    "from pathlib import Path\n",
    "from pyspark.sql.functions import from_json, col, avg\n",
    "from pyspark.sql.types import StructType, StructField, StringType, IntegerType, LongType, TimestampType"
   ]
  },
  {
   "cell_type": "code",
   "execution_count": 2,
   "id": "0f5fe017-c647-4805-9fcd-be85d1d44b41",
   "metadata": {
    "tags": []
   },
   "outputs": [],
   "source": [
    "dotenv_path = Path(\"/opt/app/.env\")\n",
    "load_dotenv(dotenv_path=dotenv_path)\n",
    "kafka_host = os.getenv(\"KAFKA_HOST\")\n",
    "kafka_topic = os.getenv(\"KAFKA_TOPIC_NAME\")"
   ]
  },
  {
   "cell_type": "code",
   "execution_count": null,
   "id": "173d850b-d5fe-4c00-be44-0a5b421f1d7d",
   "metadata": {
    "tags": []
   },
   "outputs": [],
   "source": [
    "spark = (\n",
    "    pyspark.sql.SparkSession.builder.appName(\"DibimbingStreaming\")\n",
    "    .master(\"local\")\n",
    "    .config(\"spark.jars.packages\", \"org.apache.spark:spark-sql-kafka-0-10_2.12:3.3.0\")\n",
    "    .config(\"spark.sql.shuffle.partitions\", 4)\n",
    "    .getOrCreate()\n",
    ")\n",
    "spark.sparkContext.setLogLevel(\"WARN\")"
   ]
  },
  {
   "cell_type": "code",
   "execution_count": null,
   "id": "5d50f908-6ad5-4fa6-a213-c8ae5dce92e3",
   "metadata": {
    "tags": []
   },
   "outputs": [],
   "source": [
    "schema = StructType(\n",
    "    [\n",
    "        StructField(\"order_date\", StringType(), True),\n",
    "        StructField(\"order_id\", StringType(), True),\n",
    "        StructField(\"customer_name\", StringType(), True),\n",
    "        StructField(\"product\", StringType(), True),\n",
    "        StructField(\"category\", StringType(), True),\n",
    "        StructField(\"price_per_product\", IntegerType(), True),\n",
    "        StructField(\"total_payment\", IntegerType(), True),\n",
    "        StructField(\"payment_type\", StringType(), True),\n",
    "        StructField(\"timestamp\", LongType(), True),\n",
    "        StructField(\"store_branch\", StringType(), True),\n",
    "        StructField(\"is_new\", BooleanType(), True)\n",
    "    ]\n",
    ")\n",
    "\n",
    "stream_df = (\n",
    "    spark.readStream.format(\"kafka\")\n",
    "    .option(\"kafka.bootstrap.servers\", f\"{kafka_host}:9092\")\n",
    "    .option(\"subscribe\", kafka_topic)\n",
    "    .option(\"startingOffsets\", \"latest\")\n",
    "    .load()\n",
    ")\n"
   ]
  },
  {
   "cell_type": "code",
   "execution_count": null,
   "id": "65ea9cd2-3f18-4da2-bd50-5f5aa10a08c6",
   "metadata": {
    "tags": []
   },
   "outputs": [],
   "source": [
    "retail_data = stream_retail.selectExpr(\"CAST(value AS STRING)\") \\\n",
    "    .selectExpr(\"CAST(value AS STRING) as json\") \\\n",
    "    .selectExpr(\"json\") \\\n",
    "    .select(col(\"json\").cast(\"string\").alias(\"value\")) \\\n",
    "    .selectExpr(\"CAST(value AS STRING)\")\n",
    "\n",
    "retail_data = retail_data.selectExpr(\"value\") \\\n",
    "    .selectExpr(\"CAST(value AS STRING)\") \\\n",
    "    .rdd.map(lambda x: json.loads(x[0])) \\\n",
    "    .toDF(schema=schema)\n",
    "\n",
    "aggregated_df = parsed_df.groupBy(window(col(\"timestamp\"), \"1 day\").alias(\"day\")) \\\n",
    "    .agg(spark_sum(\"price\").alias(\"running_total\")) \\\n",
    "    .select(col(\"day.start\").alias(\"timestamp\"), \"running_total\")\n",
    "\n",
    "query = aggregated_df.writeStream \\\n",
    "    .outputMode(\"complete\") \\\n",
    "    .foreachBatch(lambda batch_df, batch_id: batch_df.show(truncate=False)) \\\n",
    "    .start()\n",
    "\n",
    "query.awaitTermination()\n"
   ]
  }
 ],
 "metadata": {
  "kernelspec": {
   "display_name": "Python 3 (ipykernel)",
   "language": "python",
   "name": "python3"
  },
  "language_info": {
   "codemirror_mode": {
    "name": "ipython",
    "version": 3
   },
   "file_extension": ".py",
   "mimetype": "text/x-python",
   "name": "python",
   "nbconvert_exporter": "python",
   "pygments_lexer": "ipython3",
   "version": "3.10.10"
  }
 },
 "nbformat": 4,
 "nbformat_minor": 5
}
